{
 "cells": [
  {
   "cell_type": "code",
   "execution_count": null,
   "id": "6aea4c44",
   "metadata": {},
   "outputs": [],
   "source": [
    "1.\tWrite a Python program to find words which are greater than given length k?"
   ]
  },
  {
   "cell_type": "code",
   "execution_count": 2,
   "id": "86dbde1c",
   "metadata": {},
   "outputs": [
    {
     "name": "stdout",
     "output_type": "stream",
     "text": [
      "Python\n",
      "good\n"
     ]
    }
   ],
   "source": [
    "def word_k(k, s):    \n",
    "   \n",
    "    word = s.split(\" \")\n",
    "   \n",
    "    for x in word:\n",
    "       \n",
    "        if len(x)>k:\n",
    "        \n",
    "          print(x)\n",
    "k = 3\n",
    "s =\"Python is good\"\n",
    "word_k(k, s)"
   ]
  },
  {
   "cell_type": "code",
   "execution_count": null,
   "id": "fa286f21",
   "metadata": {},
   "outputs": [],
   "source": [
    "2.\tWrite a Python program for removing i-th character from a string?"
   ]
  },
  {
   "cell_type": "code",
   "execution_count": 3,
   "id": "481fd36c",
   "metadata": {},
   "outputs": [
    {
     "name": "stdout",
     "output_type": "stream",
     "text": [
      "Pythnisgood\n"
     ]
    }
   ],
   "source": [
    "def remove_char(s, i):\n",
    "    a = s[ : i]\n",
    "    b = s[i + 1: ]\n",
    "\n",
    "    return a+b\n",
    "\n",
    "string = \"Pythonisgood\"\n",
    "\n",
    "i = 5\n",
    "print(remove_char(string,i-1))"
   ]
  },
  {
   "cell_type": "code",
   "execution_count": null,
   "id": "22005f9a",
   "metadata": {},
   "outputs": [],
   "source": [
    "3.\tWrite a Python program to split and join a string?"
   ]
  },
  {
   "cell_type": "code",
   "execution_count": 4,
   "id": "984df66f",
   "metadata": {},
   "outputs": [
    {
     "name": "stdout",
     "output_type": "stream",
     "text": [
      "After Splitting:  ['Welcome', 'to', 'study', 'tonight']\n",
      "After joining:  Welcome-to-study-tonight\n"
     ]
    }
   ],
   "source": [
    "def split_string(string):\n",
    "    \n",
    "    list_string = string.split(' ')\n",
    "    return list_string\n",
    "\n",
    "def join_string(list_string):\n",
    "   \n",
    "    string = '-'.join(list_string)\n",
    "    return string\n",
    "\n",
    "string = 'Welcome to study tonight'\n",
    "\n",
    "list_string = split_string(string)\n",
    "print(\"After Splitting: \",list_string)\n",
    "\n",
    "\n",
    "res_string = join_string(list_string)\n",
    "print(\"After joining: \",res_string)"
   ]
  },
  {
   "cell_type": "code",
   "execution_count": null,
   "id": "2bab2bb4",
   "metadata": {},
   "outputs": [],
   "source": [
    "4.\tWrite a Python to check if a given string is binary string or not?"
   ]
  },
  {
   "cell_type": "code",
   "execution_count": 5,
   "id": "8cc54de2",
   "metadata": {},
   "outputs": [
    {
     "name": "stdout",
     "output_type": "stream",
     "text": [
      "Binary String\n",
      "Non Binary String\n"
     ]
    }
   ],
   "source": [
    "def check(string) :\n",
    "    b = set(string)\n",
    "    s = {'0', '1'}\n",
    "    if s == b or b == {'0'} or b == {'1'}:\n",
    "        print(\"Binary String\")\n",
    "    else :\n",
    "        print(\"Non Binary String\")\n",
    "  \n",
    "s1= \"00110101\"\n",
    "\n",
    "check(s1)\n",
    "s2 = \"1010100200111\"\n",
    "check(s2)"
   ]
  },
  {
   "cell_type": "code",
   "execution_count": null,
   "id": "3d09863f",
   "metadata": {},
   "outputs": [],
   "source": [
    "5.\tWrite a Python program to find uncommon words from two Strings?"
   ]
  },
  {
   "cell_type": "code",
   "execution_count": 6,
   "id": "e4e646e8",
   "metadata": {},
   "outputs": [
    {
     "name": "stdout",
     "output_type": "stream",
     "text": [
      "['Welcome', 'to']\n"
     ]
    }
   ],
   "source": [
    "def uncommon_words(s1, s2):\n",
    "    count = {}\n",
    "    for word in s1.split():\n",
    "        count[word] = count.get(word, 0) + 1\n",
    "   \n",
    "    for word in s2.split():\n",
    "        count[word] = count.get(word, 0) + 1\n",
    "   \n",
    "    return [word for word in count if count[word] == 1]\n",
    "\n",
    "s1=\"Studytonight\"\n",
    "s2=\"Welcome to Studytonight\"\n",
    "  \n",
    "\n",
    "print(uncommon_words(s1, s2))"
   ]
  },
  {
   "cell_type": "code",
   "execution_count": null,
   "id": "e7617d67",
   "metadata": {},
   "outputs": [],
   "source": [
    "6.\tWrite a Python to find all duplicate characters in string?"
   ]
  },
  {
   "cell_type": "code",
   "execution_count": 7,
   "id": "e279b351",
   "metadata": {},
   "outputs": [
    {
     "name": "stdout",
     "output_type": "stream",
     "text": [
      "5363\n",
      "The duplicate characters are ['3']\n"
     ]
    }
   ],
   "source": [
    "string = input()\n",
    "dups={}\n",
    "for x in string:\n",
    "  if x not in dups:\n",
    "    dups[x]=0\n",
    "  else:\n",
    "    dups[x]+=1\n",
    "output=[]\n",
    "for keys,vals in dups.items():\n",
    "  if vals>0:\n",
    "    output.append(keys)\n",
    "print('The duplicate characters are {}'.format(output))"
   ]
  },
  {
   "cell_type": "code",
   "execution_count": null,
   "id": "34ccfc51",
   "metadata": {},
   "outputs": [],
   "source": [
    "7.\tWrite a Python Program to check if a string contains any special character?"
   ]
  },
  {
   "cell_type": "code",
   "execution_count": 8,
   "id": "1ff80df3",
   "metadata": {},
   "outputs": [
    {
     "name": "stdout",
     "output_type": "stream",
     "text": [
      "Hello15\n",
      "string is accepted\n"
     ]
    }
   ],
   "source": [
    "import re\n",
    "\n",
    "def find(string):\n",
    "    special_char=re.compile('[@_!$%^&*()<>?/\\|}{~:]#')\n",
    "    \n",
    "    if special_char.search(string) == None:\n",
    "        return \"string is accepted\"\n",
    "    else:\n",
    "        return \"string not accpeted\"\n",
    "   \n",
    "\n",
    "s=\"Hello15\"\n",
    "print(s)\n",
    "print(find(s))"
   ]
  },
  {
   "cell_type": "code",
   "execution_count": null,
   "id": "f7af83ae",
   "metadata": {},
   "outputs": [],
   "source": []
  }
 ],
 "metadata": {
  "kernelspec": {
   "display_name": "Python 3 (ipykernel)",
   "language": "python",
   "name": "python3"
  },
  "language_info": {
   "codemirror_mode": {
    "name": "ipython",
    "version": 3
   },
   "file_extension": ".py",
   "mimetype": "text/x-python",
   "name": "python",
   "nbconvert_exporter": "python",
   "pygments_lexer": "ipython3",
   "version": "3.9.7"
  }
 },
 "nbformat": 4,
 "nbformat_minor": 5
}
